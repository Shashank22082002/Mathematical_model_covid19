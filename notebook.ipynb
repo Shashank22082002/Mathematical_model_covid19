{
 "cells": [
  {
   "cell_type": "code",
   "metadata": {
    "cell_id": "cf69593901ce479e8016474e84c42b4a",
    "tags": [],
    "deepnote_to_be_reexecuted": false,
    "source_hash": "bafea023",
    "execution_start": 1658308401565,
    "execution_millis": 3795,
    "deepnote_cell_type": "code",
    "deepnote_cell_height": 746
   },
   "source": "!pip install pymc3==3.11.5",
   "execution_count": null,
   "outputs": [
    {
     "name": "stdout",
     "text": "Requirement already satisfied: pymc3==3.11.5 in /root/venv/lib/python3.7/site-packages (3.11.5)\nRequirement already satisfied: theano-pymc==1.1.2 in /root/venv/lib/python3.7/site-packages (from pymc3==3.11.5) (1.1.2)\nRequirement already satisfied: dill in /shared-libs/python3.7/py/lib/python3.7/site-packages (from pymc3==3.11.5) (0.3.5.1)\nRequirement already satisfied: typing-extensions>=3.7.4 in /shared-libs/python3.7/py-core/lib/python3.7/site-packages (from pymc3==3.11.5) (4.2.0)\nRequirement already satisfied: deprecat in /root/venv/lib/python3.7/site-packages (from pymc3==3.11.5) (2.1.1)\nRequirement already satisfied: pandas>=0.24.0 in /shared-libs/python3.7/py/lib/python3.7/site-packages (from pymc3==3.11.5) (1.2.5)\nRequirement already satisfied: cachetools>=4.2.1 in /shared-libs/python3.7/py/lib/python3.7/site-packages (from pymc3==3.11.5) (5.2.0)\nRequirement already satisfied: arviz>=0.11.0 in /root/venv/lib/python3.7/site-packages (from pymc3==3.11.5) (0.12.1)\nRequirement already satisfied: patsy>=0.5.1 in /root/venv/lib/python3.7/site-packages (from pymc3==3.11.5) (0.5.2)\nRequirement already satisfied: scipy<1.8.0,>=1.7.3 in /shared-libs/python3.7/py/lib/python3.7/site-packages (from pymc3==3.11.5) (1.7.3)\nRequirement already satisfied: fastprogress>=0.2.0 in /root/venv/lib/python3.7/site-packages (from pymc3==3.11.5) (1.0.2)\nRequirement already satisfied: numpy<1.22.2,>=1.15.0 in /shared-libs/python3.7/py/lib/python3.7/site-packages (from pymc3==3.11.5) (1.21.6)\nRequirement already satisfied: semver>=2.13.0 in /root/venv/lib/python3.7/site-packages (from pymc3==3.11.5) (2.13.0)\nRequirement already satisfied: filelock in /shared-libs/python3.7/py/lib/python3.7/site-packages (from theano-pymc==1.1.2->pymc3==3.11.5) (3.7.1)\nRequirement already satisfied: xarray-einstats>=0.2 in /root/venv/lib/python3.7/site-packages (from arviz>=0.11.0->pymc3==3.11.5) (0.2.2)\nRequirement already satisfied: matplotlib>=3.0 in /shared-libs/python3.7/py/lib/python3.7/site-packages (from arviz>=0.11.0->pymc3==3.11.5) (3.5.2)\nRequirement already satisfied: xarray>=0.16.1 in /root/venv/lib/python3.7/site-packages (from arviz>=0.11.0->pymc3==3.11.5) (0.20.2)\nRequirement already satisfied: setuptools>=38.4 in /root/venv/lib/python3.7/site-packages (from arviz>=0.11.0->pymc3==3.11.5) (47.1.0)\nRequirement already satisfied: packaging in /shared-libs/python3.7/py/lib/python3.7/site-packages (from arviz>=0.11.0->pymc3==3.11.5) (21.3)\nRequirement already satisfied: netcdf4 in /root/venv/lib/python3.7/site-packages (from arviz>=0.11.0->pymc3==3.11.5) (1.6.0)\nRequirement already satisfied: python-dateutil>=2.7.3 in /shared-libs/python3.7/py-core/lib/python3.7/site-packages (from pandas>=0.24.0->pymc3==3.11.5) (2.8.2)\nRequirement already satisfied: pytz>=2017.3 in /shared-libs/python3.7/py/lib/python3.7/site-packages (from pandas>=0.24.0->pymc3==3.11.5) (2022.1)\nRequirement already satisfied: six in /shared-libs/python3.7/py-core/lib/python3.7/site-packages (from patsy>=0.5.1->pymc3==3.11.5) (1.16.0)\nRequirement already satisfied: wrapt<2,>=1.10 in /shared-libs/python3.7/py/lib/python3.7/site-packages (from deprecat->pymc3==3.11.5) (1.14.1)\nRequirement already satisfied: cycler>=0.10 in /shared-libs/python3.7/py/lib/python3.7/site-packages (from matplotlib>=3.0->arviz>=0.11.0->pymc3==3.11.5) (0.11.0)\nRequirement already satisfied: fonttools>=4.22.0 in /shared-libs/python3.7/py/lib/python3.7/site-packages (from matplotlib>=3.0->arviz>=0.11.0->pymc3==3.11.5) (4.33.3)\nRequirement already satisfied: pyparsing>=2.2.1 in /shared-libs/python3.7/py/lib/python3.7/site-packages (from matplotlib>=3.0->arviz>=0.11.0->pymc3==3.11.5) (3.0.9)\nRequirement already satisfied: pillow>=6.2.0 in /shared-libs/python3.7/py/lib/python3.7/site-packages (from matplotlib>=3.0->arviz>=0.11.0->pymc3==3.11.5) (9.1.1)\nRequirement already satisfied: kiwisolver>=1.0.1 in /shared-libs/python3.7/py/lib/python3.7/site-packages (from matplotlib>=3.0->arviz>=0.11.0->pymc3==3.11.5) (1.4.2)\nRequirement already satisfied: importlib-metadata in /shared-libs/python3.7/py-core/lib/python3.7/site-packages (from xarray>=0.16.1->arviz>=0.11.0->pymc3==3.11.5) (4.11.4)\nRequirement already satisfied: cftime in /root/venv/lib/python3.7/site-packages (from netcdf4->arviz>=0.11.0->pymc3==3.11.5) (1.6.1)\nRequirement already satisfied: zipp>=0.5 in /shared-libs/python3.7/py-core/lib/python3.7/site-packages (from importlib-metadata->xarray>=0.16.1->arviz>=0.11.0->pymc3==3.11.5) (3.8.0)\n\u001b[33mWARNING: You are using pip version 22.0.4; however, version 22.1.2 is available.\nYou should consider upgrading via the '/root/venv/bin/python -m pip install --upgrade pip' command.\u001b[0m\u001b[33m\n\u001b[0m",
     "output_type": "stream"
    }
   ]
  },
  {
   "cell_type": "code",
   "metadata": {
    "cell_id": "835260db5b934275816091e36466081b",
    "tags": [],
    "deepnote_to_be_reexecuted": false,
    "source_hash": "c61b68aa",
    "execution_start": 1658308404913,
    "execution_millis": 3277,
    "deepnote_cell_type": "code",
    "deepnote_cell_height": 262.125
   },
   "source": "!pip install numba==0.55.1",
   "execution_count": null,
   "outputs": [
    {
     "name": "stdout",
     "text": "Requirement already satisfied: numba==0.55.1 in /root/venv/lib/python3.7/site-packages (0.55.1)\nRequirement already satisfied: numpy<1.22,>=1.18 in /shared-libs/python3.7/py/lib/python3.7/site-packages (from numba==0.55.1) (1.21.6)\nRequirement already satisfied: setuptools in /root/venv/lib/python3.7/site-packages (from numba==0.55.1) (47.1.0)\nRequirement already satisfied: llvmlite<0.39,>=0.38.0rc1 in /root/venv/lib/python3.7/site-packages (from numba==0.55.1) (0.38.1)\n\u001b[33mWARNING: You are using pip version 22.0.4; however, version 22.1.2 is available.\nYou should consider upgrading via the '/root/venv/bin/python -m pip install --upgrade pip' command.\u001b[0m\u001b[33m\n\u001b[0m",
     "output_type": "stream"
    }
   ]
  },
  {
   "cell_type": "code",
   "metadata": {
    "cell_id": "b30eec04856144b18de9121c979ae7f5",
    "tags": [],
    "deepnote_to_be_reexecuted": false,
    "source_hash": "37cb321c",
    "execution_start": 1658308408084,
    "execution_millis": 2730,
    "deepnote_cell_type": "code",
    "deepnote_cell_height": 422.1875
   },
   "source": "import numpy as np # linear algebra\nimport pandas as pd # data processing, CSV file I/O (e.g. pd.read_csv)\nimport pymc3 as pm # for uncertainty quantification and model calibration\nfrom scipy.integrate import solve_ivp # to solve ODE system\nfrom scipy import optimize # to solve minimization problem from least-squares fitting\nfrom numba import jit # to accelerate ODE system RHS evaluations\nimport theano # to control better pymc3 backend and write a wrapper\nimport theano.tensor as t # for the wrapper to a custom model to pymc3\n# Plotting libs\nimport matplotlib.pyplot as plt\nimport altair as alt\n\nseed = 12345 # for the sake of reproducibility :)\nnp.random.seed(seed)\n\nplt.style.use('seaborn-talk') # beautify the plots!\n\nTHEANO_FLAGS='optimizer=fast_compile' # A theano trick",
   "execution_count": null,
   "outputs": [
    {
     "name": "stderr",
     "text": "WARNING (theano.tensor.blas): Using NumPy C-API based implementation for BLAS functions.\n",
     "output_type": "stream"
    }
   ]
  },
  {
   "cell_type": "code",
   "metadata": {
    "cell_id": "40a3040947f44ff6a5d3e2e5d81c694d",
    "tags": [],
    "deepnote_to_be_reexecuted": false,
    "source_hash": "a0e094f5",
    "execution_start": 1658308410815,
    "execution_millis": 179,
    "deepnote_cell_type": "code",
    "deepnote_cell_height": 755
   },
   "source": "import io\ndf_covid=pd.read_csv('covid_19_clean_complete.csv', parse_dates=['Date'])\nprint(df_covid)\ndf_covid.info()",
   "execution_count": null,
   "outputs": [
    {
     "name": "stdout",
     "text": "                 Province/State  Country/Region      Lat     Long       Date  \\\n0                           NaN     Afghanistan  33.0000  65.0000 2020-01-22   \n1                           NaN         Albania  41.1533  20.1683 2020-01-22   \n2                           NaN         Algeria  28.0339   1.6596 2020-01-22   \n3                           NaN         Andorra  42.5063   1.5218 2020-01-22   \n4                           NaN          Angola -11.2027  17.8739 2020-01-22   \n...                         ...             ...      ...      ...        ...   \n17131                       NaN           Burma  21.9162  95.9560 2020-03-29   \n17132                  Anguilla  United Kingdom  18.2206 -63.0686 2020-03-29   \n17133    British Virgin Islands  United Kingdom  18.4207 -64.6400 2020-03-29   \n17134  Turks and Caicos Islands  United Kingdom  21.6940 -71.7979 2020-03-29   \n17135                       NaN      MS Zaandam   0.0000   0.0000 2020-03-29   \n\n       Confirmed  Deaths  Recovered  \n0              0       0          0  \n1              0       0          0  \n2              0       0          0  \n3              0       0          0  \n4              0       0          0  \n...          ...     ...        ...  \n17131         10       0          0  \n17132          2       0          0  \n17133          2       0          0  \n17134          4       0          0  \n17135          2       0          0  \n\n[17136 rows x 8 columns]\n<class 'pandas.core.frame.DataFrame'>\nRangeIndex: 17136 entries, 0 to 17135\nData columns (total 8 columns):\n #   Column          Non-Null Count  Dtype         \n---  ------          --------------  -----         \n 0   Province/State  5304 non-null   object        \n 1   Country/Region  17136 non-null  object        \n 2   Lat             17136 non-null  float64       \n 3   Long            17136 non-null  float64       \n 4   Date            17136 non-null  datetime64[ns]\n 5   Confirmed       17136 non-null  int64         \n 6   Deaths          17136 non-null  int64         \n 7   Recovered       17136 non-null  int64         \ndtypes: datetime64[ns](1), float64(2), int64(3), object(2)\nmemory usage: 1.0+ MB\n",
     "output_type": "stream"
    }
   ]
  },
  {
   "cell_type": "code",
   "metadata": {
    "tags": [],
    "cell_id": "b4024bb7-3b0c-4758-84da-fd69a64adde1",
    "deepnote_to_be_reexecuted": false,
    "source_hash": "79753251",
    "execution_start": 1658308410868,
    "execution_millis": 6,
    "deepnote_cell_type": "code",
    "deepnote_cell_height": 261
   },
   "source": "def seirdq_model(t, X, alpha=1/5, beta=1, gamma=0, omega=0, zeta=1/15, delta=0.02):\n    \"\"\"\n    A modified SEIRD model in order to take into account quarantine.\n    \"\"\"\n    S, E, I, R, D = X\n    S_prime = - beta * S * I - gamma * E * S - omega * S\n    E_prime = beta * S * I - alpha * E + gamma * E * S - omega * E\n    I_prime = alpha * E - zeta * I - delta * I - omega * I\n    R_prime = zeta * I + omega * (S + E + I)\n    D_prime = delta * I\n    return S_prime, E_prime, I_prime, R_prime, D_prime",
   "execution_count": null,
   "outputs": []
  },
  {
   "cell_type": "code",
   "metadata": {
    "cell_id": "bea092538e0041e7b27c5c2f49cbeda4",
    "tags": [],
    "deepnote_to_be_reexecuted": false,
    "source_hash": "1eeda56a",
    "execution_start": 1658308410880,
    "execution_millis": 2,
    "owner_user_id": "26d546a8-4c2f-47fa-bd0a-9646066f5718",
    "deepnote_cell_type": "code",
    "deepnote_cell_height": 243
   },
   "source": "def seirdq_ode_solver(y0, t_span, t_eval, beta=1, gamma=0, delta=0.02, omega=0, alpha=1/4, zeta=1/14):\n    solution_ODE = solve_ivp(\n        fun=lambda t, y: seirdq_model(t, y, alpha=alpha, beta=beta, gamma=gamma, omega=omega, zeta=zeta, delta=delta), \n        t_span=t_span, \n        y0=y0,\n        t_eval=t_eval,\n        method='LSODA'\n    )\n    \n    return solution_ODE",
   "execution_count": null,
   "outputs": []
  },
  {
   "cell_type": "code",
   "metadata": {
    "cell_id": "081a752b79c54b0bbc8c4e7a81c0b8d4",
    "tags": [],
    "deepnote_to_be_reexecuted": false,
    "source_hash": "6d75e30c",
    "execution_start": 1658308410888,
    "execution_millis": 121,
    "deepnote_cell_type": "code",
    "deepnote_cell_height": 199.375
   },
   "source": "solution_ODE_predict_seir = seir_ode_solver(y0_seir, (t0, tf), time_range, beta_fitted_seir, gamma_fitted_seir, alpha_fitted,                                                                                                                 zeta_fitted)  # SEIR\nt_computed_predict_seir, y_computed_predict_seir = solution_ODE_predict_seir.t, solution_ODE_predict_seir.y\nS_predict_seir, E_predict_seir, I_predict_seir, R_predict_seir = y_computed_predict_seir",
   "execution_count": null,
   "outputs": [
    {
     "output_type": "error",
     "ename": "IndentationError",
     "evalue": "unexpected indent (<ipython-input-7-46c65258f128>, line 3)",
     "traceback": [
      "\u001b[0;36m  File \u001b[0;32m\"<ipython-input-7-46c65258f128>\"\u001b[0;36m, line \u001b[0;32m3\u001b[0m\n\u001b[0;31m    t_computed_predict_seir, y_computed_predict_seir = solution_ODE_predict_seir.t, solution_ODE_predict_seir.y\u001b[0m\n\u001b[0m    ^\u001b[0m\n\u001b[0;31mIndentationError\u001b[0m\u001b[0;31m:\u001b[0m unexpected indent\n"
     ]
    }
   ]
  },
  {
   "cell_type": "code",
   "metadata": {
    "cell_id": "f112b986f74e43a199568d2795e73ac0",
    "tags": [],
    "deepnote_to_be_reexecuted": true,
    "source_hash": "95e50d4c",
    "deepnote_cell_type": "code",
    "deepnote_cell_height": 81
   },
   "source": "seirdq_ode_solver(y0, t_span, t_eval, 1, 0, 0.02,0, 1/4,1/14)",
   "execution_count": null,
   "outputs": []
  },
  {
   "cell_type": "markdown",
   "source": "<a style='text-decoration:none;line-height:16px;display:flex;color:#5B5B62;padding:10px;justify-content:end;' href='https://deepnote.com?utm_source=created-in-deepnote-cell&projectId=dc57ba6e-be15-44f8-a950-3572ffb61812' target=\"_blank\">\n<img alt='Created in deepnote.com' style='display:inline;max-height:16px;margin:0px;margin-right:7.5px;' src='data:image/svg+xml;base64,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' > </img>\nCreated in <span style='font-weight:600;margin-left:4px;'>Deepnote</span></a>",
   "metadata": {
    "tags": [],
    "created_in_deepnote_cell": true,
    "deepnote_cell_type": "markdown"
   }
  }
 ],
 "nbformat": 4,
 "nbformat_minor": 2,
 "metadata": {
  "orig_nbformat": 2,
  "deepnote": {},
  "deepnote_notebook_id": "bfb65f8b-92fd-444d-ba88-c7dfcba453f6",
  "deepnote_execution_queue": []
 }
}